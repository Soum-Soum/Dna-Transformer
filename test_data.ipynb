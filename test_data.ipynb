{
 "cells": [
  {
   "cell_type": "code",
   "execution_count": 2,
   "id": "252744cf",
   "metadata": {},
   "outputs": [],
   "source": [
    "import pandas as pd\n",
    "import polars as pl"
   ]
  },
  {
   "cell_type": "code",
   "execution_count": 3,
   "id": "05cfaa11",
   "metadata": {},
   "outputs": [],
   "source": [
    "df = pd.read_parquet('data/output/chuncks/chunk_0_4999.parquet')"
   ]
  },
  {
   "cell_type": "code",
   "execution_count": 5,
   "id": "58c2bbd1",
   "metadata": {},
   "outputs": [
    {
     "data": {
      "text/html": [
       "<div>\n",
       "<style scoped>\n",
       "    .dataframe tbody tr th:only-of-type {\n",
       "        vertical-align: middle;\n",
       "    }\n",
       "\n",
       "    .dataframe tbody tr th {\n",
       "        vertical-align: top;\n",
       "    }\n",
       "\n",
       "    .dataframe thead th {\n",
       "        text-align: right;\n",
       "    }\n",
       "</style>\n",
       "<table border=\"1\" class=\"dataframe\">\n",
       "  <thead>\n",
       "    <tr style=\"text-align: right;\">\n",
       "      <th></th>\n",
       "      <th>allele</th>\n",
       "      <th>main_allele</th>\n",
       "      <th>position</th>\n",
       "    </tr>\n",
       "  </thead>\n",
       "  <tbody>\n",
       "    <tr>\n",
       "      <th>B205</th>\n",
       "      <td>TT</td>\n",
       "      <td>GG</td>\n",
       "      <td>1384</td>\n",
       "    </tr>\n",
       "    <tr>\n",
       "      <th>IRIS_313-11532</th>\n",
       "      <td>AA</td>\n",
       "      <td>CC</td>\n",
       "      <td>1399</td>\n",
       "    </tr>\n",
       "    <tr>\n",
       "      <th>CX349</th>\n",
       "      <td>TT</td>\n",
       "      <td>CC</td>\n",
       "      <td>1409</td>\n",
       "    </tr>\n",
       "    <tr>\n",
       "      <th>B161</th>\n",
       "      <td>AT</td>\n",
       "      <td>AA</td>\n",
       "      <td>1427</td>\n",
       "    </tr>\n",
       "    <tr>\n",
       "      <th>B188</th>\n",
       "      <td>AT</td>\n",
       "      <td>AA</td>\n",
       "      <td>1427</td>\n",
       "    </tr>\n",
       "    <tr>\n",
       "      <th>...</th>\n",
       "      <td>...</td>\n",
       "      <td>...</td>\n",
       "      <td>...</td>\n",
       "    </tr>\n",
       "    <tr>\n",
       "      <th>IRIS_313-11477</th>\n",
       "      <td>AA</td>\n",
       "      <td>CC</td>\n",
       "      <td>150280</td>\n",
       "    </tr>\n",
       "    <tr>\n",
       "      <th>IRIS_313-11737</th>\n",
       "      <td>AA</td>\n",
       "      <td>CC</td>\n",
       "      <td>150280</td>\n",
       "    </tr>\n",
       "    <tr>\n",
       "      <th>IRIS_313-8822</th>\n",
       "      <td>AA</td>\n",
       "      <td>CC</td>\n",
       "      <td>150280</td>\n",
       "    </tr>\n",
       "    <tr>\n",
       "      <th>IRIS_313-9368</th>\n",
       "      <td>AA</td>\n",
       "      <td>CC</td>\n",
       "      <td>150280</td>\n",
       "    </tr>\n",
       "    <tr>\n",
       "      <th>IRIS_313-10745</th>\n",
       "      <td>TG</td>\n",
       "      <td>TT</td>\n",
       "      <td>150335</td>\n",
       "    </tr>\n",
       "  </tbody>\n",
       "</table>\n",
       "<p>306913 rows × 3 columns</p>\n",
       "</div>"
      ],
      "text/plain": [
       "               allele main_allele  position\n",
       "B205               TT          GG      1384\n",
       "IRIS_313-11532     AA          CC      1399\n",
       "CX349              TT          CC      1409\n",
       "B161               AT          AA      1427\n",
       "B188               AT          AA      1427\n",
       "...               ...         ...       ...\n",
       "IRIS_313-11477     AA          CC    150280\n",
       "IRIS_313-11737     AA          CC    150280\n",
       "IRIS_313-8822      AA          CC    150280\n",
       "IRIS_313-9368      AA          CC    150280\n",
       "IRIS_313-10745     TG          TT    150335\n",
       "\n",
       "[306913 rows x 3 columns]"
      ]
     },
     "execution_count": 5,
     "metadata": {},
     "output_type": "execute_result"
    }
   ],
   "source": [
    "df"
   ]
  },
  {
   "cell_type": "code",
   "execution_count": 74,
   "id": "4816d220",
   "metadata": {},
   "outputs": [
    {
     "data": {
      "text/html": [
       "<div><style>\n",
       ".dataframe > thead > tr,\n",
       ".dataframe > tbody > tr {\n",
       "  text-align: right;\n",
       "  white-space: pre-wrap;\n",
       "}\n",
       "</style>\n",
       "<small>shape: (1_107_868, 2)</small><table border=\"1\" class=\"dataframe\"><thead><tr><th>position</th><th>main_allele</th></tr><tr><td>i64</td><td>str</td></tr></thead><tbody><tr><td>1384</td><td>&quot;GG&quot;</td></tr><tr><td>1399</td><td>&quot;CC&quot;</td></tr><tr><td>1409</td><td>&quot;CC&quot;</td></tr><tr><td>1427</td><td>&quot;AA&quot;</td></tr><tr><td>1429</td><td>&quot;CC&quot;</td></tr><tr><td>&hellip;</td><td>&hellip;</td></tr><tr><td>43269742</td><td>&quot;GG&quot;</td></tr><tr><td>43269856</td><td>&quot;AA&quot;</td></tr><tr><td>43269879</td><td>&quot;AA&quot;</td></tr><tr><td>43269903</td><td>&quot;CC&quot;</td></tr><tr><td>43269904</td><td>&quot;CC&quot;</td></tr></tbody></table></div>"
      ],
      "text/plain": [
       "shape: (1_107_868, 2)\n",
       "┌──────────┬─────────────┐\n",
       "│ position ┆ main_allele │\n",
       "│ ---      ┆ ---         │\n",
       "│ i64      ┆ str         │\n",
       "╞══════════╪═════════════╡\n",
       "│ 1384     ┆ GG          │\n",
       "│ 1399     ┆ CC          │\n",
       "│ 1409     ┆ CC          │\n",
       "│ 1427     ┆ AA          │\n",
       "│ 1429     ┆ CC          │\n",
       "│ …        ┆ …           │\n",
       "│ 43269742 ┆ GG          │\n",
       "│ 43269856 ┆ AA          │\n",
       "│ 43269879 ┆ AA          │\n",
       "│ 43269903 ┆ CC          │\n",
       "│ 43269904 ┆ CC          │\n",
       "└──────────┴─────────────┘"
      ]
     },
     "execution_count": 74,
     "metadata": {},
     "output_type": "execute_result"
    }
   ],
   "source": [
    "df2 = pl.read_parquet('data/output/all_main_allele.parquet')\n",
    "df2 = df2.sort('position')\n",
    "df2"
   ]
  },
  {
   "cell_type": "code",
   "execution_count": 66,
   "id": "2cc14b35",
   "metadata": {},
   "outputs": [
    {
     "data": {
      "text/plain": [
       "count    1107867.00\n",
       "mean          39.06\n",
       "std          655.61\n",
       "min            1.00\n",
       "25%            5.00\n",
       "50%           12.00\n",
       "75%           29.00\n",
       "max       432274.00\n",
       "Name: position, dtype: float64"
      ]
     },
     "execution_count": 66,
     "metadata": {},
     "output_type": "execute_result"
    }
   ],
   "source": [
    "df2[\"position\"].diff().describe().round(2)"
   ]
  },
  {
   "cell_type": "code",
   "execution_count": 68,
   "id": "1da6ef62",
   "metadata": {},
   "outputs": [
    {
     "name": "stdout",
     "output_type": "stream",
     "text": [
      "Start: 1974, End: 4732\n"
     ]
    }
   ],
   "source": [
    "desc = df2[100:250][\"position\"].describe()\n",
    "start = int(desc[\"min\"])\n",
    "end = int(desc[\"max\"])\n",
    "print(f\"Start: {start}, End: {end}\")"
   ]
  },
  {
   "cell_type": "code",
   "execution_count": 69,
   "id": "ab713e0d",
   "metadata": {},
   "outputs": [],
   "source": [
    "df3 = pl.read_parquet('data/output/SNPs/B001.parquet').to_pandas()"
   ]
  },
  {
   "cell_type": "code",
   "execution_count": 70,
   "id": "20fbe26a",
   "metadata": {},
   "outputs": [
    {
     "data": {
      "text/html": [
       "<div>\n",
       "<style scoped>\n",
       "    .dataframe tbody tr th:only-of-type {\n",
       "        vertical-align: middle;\n",
       "    }\n",
       "\n",
       "    .dataframe tbody tr th {\n",
       "        vertical-align: top;\n",
       "    }\n",
       "\n",
       "    .dataframe thead th {\n",
       "        text-align: right;\n",
       "    }\n",
       "</style>\n",
       "<table border=\"1\" class=\"dataframe\">\n",
       "  <thead>\n",
       "    <tr style=\"text-align: right;\">\n",
       "      <th></th>\n",
       "      <th>allele</th>\n",
       "      <th>main_allele</th>\n",
       "      <th>position</th>\n",
       "      <th>individual</th>\n",
       "    </tr>\n",
       "  </thead>\n",
       "  <tbody>\n",
       "  </tbody>\n",
       "</table>\n",
       "</div>"
      ],
      "text/plain": [
       "Empty DataFrame\n",
       "Columns: [allele, main_allele, position, individual]\n",
       "Index: []"
      ]
     },
     "execution_count": 70,
     "metadata": {},
     "output_type": "execute_result"
    }
   ],
   "source": [
    "df3[(df3[\"position\"] >= start) & (df3[\"position\"] <= end)]"
   ]
  },
  {
   "cell_type": "code",
   "execution_count": 78,
   "id": "fb52d8c6",
   "metadata": {},
   "outputs": [
    {
     "data": {
      "text/html": [
       "<div><style>\n",
       ".dataframe > thead > tr,\n",
       ".dataframe > tbody > tr {\n",
       "  text-align: right;\n",
       "  white-space: pre-wrap;\n",
       "}\n",
       "</style>\n",
       "<small>shape: (150, 2)</small><table border=\"1\" class=\"dataframe\"><thead><tr><th>position</th><th>main_allele</th></tr><tr><td>i64</td><td>str</td></tr></thead><tbody><tr><td>1974</td><td>&quot;GG&quot;</td></tr><tr><td>1977</td><td>&quot;GG&quot;</td></tr><tr><td>1979</td><td>&quot;TT&quot;</td></tr><tr><td>1986</td><td>&quot;AA&quot;</td></tr><tr><td>1989</td><td>&quot;GG&quot;</td></tr><tr><td>&hellip;</td><td>&hellip;</td></tr><tr><td>4629</td><td>&quot;TT&quot;</td></tr><tr><td>4658</td><td>&quot;TT&quot;</td></tr><tr><td>4675</td><td>&quot;GG&quot;</td></tr><tr><td>4711</td><td>&quot;GG&quot;</td></tr><tr><td>4732</td><td>&quot;AA&quot;</td></tr></tbody></table></div>"
      ],
      "text/plain": [
       "shape: (150, 2)\n",
       "┌──────────┬─────────────┐\n",
       "│ position ┆ main_allele │\n",
       "│ ---      ┆ ---         │\n",
       "│ i64      ┆ str         │\n",
       "╞══════════╪═════════════╡\n",
       "│ 1974     ┆ GG          │\n",
       "│ 1977     ┆ GG          │\n",
       "│ 1979     ┆ TT          │\n",
       "│ 1986     ┆ AA          │\n",
       "│ 1989     ┆ GG          │\n",
       "│ …        ┆ …           │\n",
       "│ 4629     ┆ TT          │\n",
       "│ 4658     ┆ TT          │\n",
       "│ 4675     ┆ GG          │\n",
       "│ 4711     ┆ GG          │\n",
       "│ 4732     ┆ AA          │\n",
       "└──────────┴─────────────┘"
      ]
     },
     "execution_count": 78,
     "metadata": {},
     "output_type": "execute_result"
    }
   ],
   "source": [
    "df2[100:250]"
   ]
  },
  {
   "cell_type": "code",
   "execution_count": null,
   "id": "08a6ed04",
   "metadata": {},
   "outputs": [
    {
     "data": {
      "text/html": [
       "<div>\n",
       "<style scoped>\n",
       "    .dataframe tbody tr th:only-of-type {\n",
       "        vertical-align: middle;\n",
       "    }\n",
       "\n",
       "    .dataframe tbody tr th {\n",
       "        vertical-align: top;\n",
       "    }\n",
       "\n",
       "    .dataframe thead th {\n",
       "        text-align: right;\n",
       "    }\n",
       "</style>\n",
       "<table border=\"1\" class=\"dataframe\">\n",
       "  <thead>\n",
       "    <tr style=\"text-align: right;\">\n",
       "      <th></th>\n",
       "      <th>allele</th>\n",
       "      <th>main_allele</th>\n",
       "      <th>position</th>\n",
       "      <th>individual</th>\n",
       "    </tr>\n",
       "  </thead>\n",
       "  <tbody>\n",
       "    <tr>\n",
       "      <th>0</th>\n",
       "      <td>GT</td>\n",
       "      <td>GG</td>\n",
       "      <td>6918</td>\n",
       "      <td>B001</td>\n",
       "    </tr>\n",
       "    <tr>\n",
       "      <th>1</th>\n",
       "      <td>GT</td>\n",
       "      <td>GG</td>\n",
       "      <td>6946</td>\n",
       "      <td>B001</td>\n",
       "    </tr>\n",
       "    <tr>\n",
       "      <th>2</th>\n",
       "      <td>CC</td>\n",
       "      <td>AA</td>\n",
       "      <td>17263</td>\n",
       "      <td>B001</td>\n",
       "    </tr>\n",
       "    <tr>\n",
       "      <th>3</th>\n",
       "      <td>AG</td>\n",
       "      <td>AA</td>\n",
       "      <td>21665</td>\n",
       "      <td>B001</td>\n",
       "    </tr>\n",
       "    <tr>\n",
       "      <th>4</th>\n",
       "      <td>TG</td>\n",
       "      <td>TT</td>\n",
       "      <td>21680</td>\n",
       "      <td>B001</td>\n",
       "    </tr>\n",
       "    <tr>\n",
       "      <th>...</th>\n",
       "      <td>...</td>\n",
       "      <td>...</td>\n",
       "      <td>...</td>\n",
       "      <td>...</td>\n",
       "    </tr>\n",
       "    <tr>\n",
       "      <th>43797</th>\n",
       "      <td>TT</td>\n",
       "      <td>CC</td>\n",
       "      <td>43244177</td>\n",
       "      <td>B001</td>\n",
       "    </tr>\n",
       "    <tr>\n",
       "      <th>43798</th>\n",
       "      <td>AA</td>\n",
       "      <td>AC</td>\n",
       "      <td>43253999</td>\n",
       "      <td>B001</td>\n",
       "    </tr>\n",
       "    <tr>\n",
       "      <th>43799</th>\n",
       "      <td>AA</td>\n",
       "      <td>GG</td>\n",
       "      <td>43254132</td>\n",
       "      <td>B001</td>\n",
       "    </tr>\n",
       "    <tr>\n",
       "      <th>43800</th>\n",
       "      <td>GG</td>\n",
       "      <td>GA</td>\n",
       "      <td>43254300</td>\n",
       "      <td>B001</td>\n",
       "    </tr>\n",
       "    <tr>\n",
       "      <th>43801</th>\n",
       "      <td>AA</td>\n",
       "      <td>GG</td>\n",
       "      <td>43269402</td>\n",
       "      <td>B001</td>\n",
       "    </tr>\n",
       "  </tbody>\n",
       "</table>\n",
       "<p>43802 rows × 4 columns</p>\n",
       "</div>"
      ],
      "text/plain": [
       "      allele main_allele  position individual\n",
       "0         GT          GG      6918       B001\n",
       "1         GT          GG      6946       B001\n",
       "2         CC          AA     17263       B001\n",
       "3         AG          AA     21665       B001\n",
       "4         TG          TT     21680       B001\n",
       "...      ...         ...       ...        ...\n",
       "43797     TT          CC  43244177       B001\n",
       "43798     AA          AC  43253999       B001\n",
       "43799     AA          GG  43254132       B001\n",
       "43800     GG          GA  43254300       B001\n",
       "43801     AA          GG  43269402       B001\n",
       "\n",
       "[43802 rows x 4 columns]"
      ]
     },
     "execution_count": 72,
     "metadata": {},
     "output_type": "execute_result"
    }
   ],
   "source": []
  },
  {
   "cell_type": "code",
   "execution_count": null,
   "id": "85130c94",
   "metadata": {},
   "outputs": [],
   "source": []
  },
  {
   "cell_type": "code",
   "execution_count": 37,
   "id": "9930a128",
   "metadata": {},
   "outputs": [],
   "source": [
    "ref_df = pl.read_parquet(\"data/output/all_main_alleles.parquet\")\n",
    "ref_df = ref_df.drop([\"__index_level_0__\"])\n",
    "individual_df = pl.read_parquet(\"data/output/SNPs/B001.parquet\")"
   ]
  },
  {
   "cell_type": "code",
   "execution_count": null,
   "id": "45f164a4",
   "metadata": {},
   "outputs": [
    {
     "name": "stdout",
     "output_type": "stream",
     "text": [
      "Start: 1384, End: 152418\n"
     ]
    }
   ],
   "source": [
    "sub_ref = ref_df[0:5000]\n",
    "start_pos = sub_ref[\"position\"][0]\n",
    "end_pos = sub_ref[\"position\"][-1]\n",
    "print(f\"Start: {start_pos}, End: {end_pos}\")\n",
    "# Filter the individual_df DataFrame to get the subset of individuals\n",
    "\n"
   ]
  },
  {
   "cell_type": "code",
   "execution_count": null,
   "id": "36f8f624",
   "metadata": {},
   "outputs": [
    {
     "data": {
      "text/html": [
       "<div><style>\n",
       ".dataframe > thead > tr,\n",
       ".dataframe > tbody > tr {\n",
       "  text-align: right;\n",
       "  white-space: pre-wrap;\n",
       "}\n",
       "</style>\n",
       "<small>shape: (7, 3)</small><table border=\"1\" class=\"dataframe\"><thead><tr><th>position</th><th>main_allele</th><th>allele</th></tr><tr><td>i64</td><td>str</td><td>str</td></tr></thead><tbody><tr><td>6918</td><td>&quot;GG&quot;</td><td>&quot;GT&quot;</td></tr><tr><td>6946</td><td>&quot;GG&quot;</td><td>&quot;GT&quot;</td></tr><tr><td>17263</td><td>&quot;AA&quot;</td><td>&quot;CC&quot;</td></tr><tr><td>21665</td><td>&quot;AA&quot;</td><td>&quot;AG&quot;</td></tr><tr><td>21680</td><td>&quot;TT&quot;</td><td>&quot;TG&quot;</td></tr><tr><td>78832</td><td>&quot;GG&quot;</td><td>&quot;GA&quot;</td></tr><tr><td>129602</td><td>&quot;CC&quot;</td><td>&quot;TT&quot;</td></tr></tbody></table></div>"
      ],
      "text/plain": [
       "shape: (7, 3)\n",
       "┌──────────┬─────────────┬────────┐\n",
       "│ position ┆ main_allele ┆ allele │\n",
       "│ ---      ┆ ---         ┆ ---    │\n",
       "│ i64      ┆ str         ┆ str    │\n",
       "╞══════════╪═════════════╪════════╡\n",
       "│ 6918     ┆ GG          ┆ GT     │\n",
       "│ 6946     ┆ GG          ┆ GT     │\n",
       "│ 17263    ┆ AA          ┆ CC     │\n",
       "│ 21665    ┆ AA          ┆ AG     │\n",
       "│ 21680    ┆ TT          ┆ TG     │\n",
       "│ 78832    ┆ GG          ┆ GA     │\n",
       "│ 129602   ┆ CC          ┆ TT     │\n",
       "└──────────┴─────────────┴────────┘"
      ]
     },
     "execution_count": 42,
     "metadata": {},
     "output_type": "execute_result"
    }
   ],
   "source": [
    "sub_individual = individual_df.filter(\n",
    "    (individual_df[\"position\"] >= start_pos) & (individual_df[\"position\"] <= end_pos)\n",
    ")\n",
    "\n",
    "sub_ref_updated = sub_ref.join(\n",
    "    sub_individual[[\"allele\", \"position\"]],\n",
    "    on=\"position\",\n",
    "    how=\"left\"\n",
    ")\n",
    "\n",
    "sub_ref_updated = sub_ref_updated.with_columns(\n",
    "    pl.col(\"allele\").fill_null(pl.col(\"main_allele\"))\n",
    ")\n",
    "\n",
    "sub_ref_updated.filter(\n",
    "    (pl.col(\"main_allele\") != pl.col(\"allele\"))\n",
    ")"
   ]
  },
  {
   "cell_type": "code",
   "execution_count": 29,
   "id": "a27bc187",
   "metadata": {},
   "outputs": [
    {
     "data": {
      "text/html": [
       "<div><style>\n",
       ".dataframe > thead > tr,\n",
       ".dataframe > tbody > tr {\n",
       "  text-align: right;\n",
       "  white-space: pre-wrap;\n",
       "}\n",
       "</style>\n",
       "<small>shape: (7, 4)</small><table border=\"1\" class=\"dataframe\"><thead><tr><th>allele</th><th>main_allele</th><th>position</th><th>individual</th></tr><tr><td>str</td><td>str</td><td>i64</td><td>str</td></tr></thead><tbody><tr><td>&quot;GT&quot;</td><td>&quot;GG&quot;</td><td>6918</td><td>&quot;B001&quot;</td></tr><tr><td>&quot;GT&quot;</td><td>&quot;GG&quot;</td><td>6946</td><td>&quot;B001&quot;</td></tr><tr><td>&quot;CC&quot;</td><td>&quot;AA&quot;</td><td>17263</td><td>&quot;B001&quot;</td></tr><tr><td>&quot;AG&quot;</td><td>&quot;AA&quot;</td><td>21665</td><td>&quot;B001&quot;</td></tr><tr><td>&quot;TG&quot;</td><td>&quot;TT&quot;</td><td>21680</td><td>&quot;B001&quot;</td></tr><tr><td>&quot;GA&quot;</td><td>&quot;GG&quot;</td><td>78832</td><td>&quot;B001&quot;</td></tr><tr><td>&quot;TT&quot;</td><td>&quot;CC&quot;</td><td>129602</td><td>&quot;B001&quot;</td></tr></tbody></table></div>"
      ],
      "text/plain": [
       "shape: (7, 4)\n",
       "┌────────┬─────────────┬──────────┬────────────┐\n",
       "│ allele ┆ main_allele ┆ position ┆ individual │\n",
       "│ ---    ┆ ---         ┆ ---      ┆ ---        │\n",
       "│ str    ┆ str         ┆ i64      ┆ str        │\n",
       "╞════════╪═════════════╪══════════╪════════════╡\n",
       "│ GT     ┆ GG          ┆ 6918     ┆ B001       │\n",
       "│ GT     ┆ GG          ┆ 6946     ┆ B001       │\n",
       "│ CC     ┆ AA          ┆ 17263    ┆ B001       │\n",
       "│ AG     ┆ AA          ┆ 21665    ┆ B001       │\n",
       "│ TG     ┆ TT          ┆ 21680    ┆ B001       │\n",
       "│ GA     ┆ GG          ┆ 78832    ┆ B001       │\n",
       "│ TT     ┆ CC          ┆ 129602   ┆ B001       │\n",
       "└────────┴─────────────┴──────────┴────────────┘"
      ]
     },
     "execution_count": 29,
     "metadata": {},
     "output_type": "execute_result"
    }
   ],
   "source": [
    "sub_individual"
   ]
  }
 ],
 "metadata": {
  "kernelspec": {
   "display_name": "dna",
   "language": "python",
   "name": "python3"
  },
  "language_info": {
   "codemirror_mode": {
    "name": "ipython",
    "version": 3
   },
   "file_extension": ".py",
   "mimetype": "text/x-python",
   "name": "python",
   "nbconvert_exporter": "python",
   "pygments_lexer": "ipython3",
   "version": "3.12.9"
  }
 },
 "nbformat": 4,
 "nbformat_minor": 5
}
